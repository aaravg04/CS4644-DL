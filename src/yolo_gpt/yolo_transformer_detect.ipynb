{
 "cells": [
  {
   "cell_type": "code",
   "execution_count": 10,
   "metadata": {},
   "outputs": [
    {
     "name": "stdout",
     "output_type": "stream",
     "text": [
      "The autoreload extension is already loaded. To reload it, use:\n",
      "  %reload_ext autoreload\n"
     ]
    }
   ],
   "source": [
    "import yolo_detect\n",
    "import ollama_gpt\n",
    "\n",
    "%load_ext autoreload\n",
    "%autoreload 2"
   ]
  },
  {
   "cell_type": "markdown",
   "metadata": {},
   "source": [
    "Make sure to run Ollama engine have llama3.2 downloaded"
   ]
  },
  {
   "cell_type": "code",
   "execution_count": null,
   "metadata": {},
   "outputs": [],
   "source": [
    "IMG_PATH = \"./000000002153.jpg\"  # EDIT THIS\n",
    "PROMPT = \"Without hallucinating too many extra details, generate me a single-line brief image caption with an image with the following subjects and their respective centroids. Use must use all subjects in the caption:\\n\\n\""
   ]
  },
  {
   "cell_type": "code",
   "execution_count": 27,
   "metadata": {},
   "outputs": [
    {
     "name": "stdout",
     "output_type": "stream",
     "text": [
      "\n",
      "image 1/1 /Users/nityam/GT/CS 7643/Project/yolo-test/images/000000002153.jpg: 480x640 6 persons, 1 baseball bat, 44.3ms\n",
      "Speed: 1.4ms preprocess, 44.3ms inference, 0.6ms postprocess per image at shape (1, 3, 480, 640)\n"
     ]
    }
   ],
   "source": [
    "subjects_str = yolo_detect.generate_detections(IMG_PATH)"
   ]
  },
  {
   "cell_type": "code",
   "execution_count": 28,
   "metadata": {},
   "outputs": [
    {
     "data": {
      "text/plain": [
       "'A man swings a baseball bat while three other men look on in the background at various locations around them.'"
      ]
     },
     "execution_count": 28,
     "metadata": {},
     "output_type": "execute_result"
    }
   ],
   "source": [
    "ollama_gpt.get_response(PROMPT + subjects_str)"
   ]
  }
 ],
 "metadata": {
  "kernelspec": {
   "display_name": "yolo-test",
   "language": "python",
   "name": "python3"
  },
  "language_info": {
   "codemirror_mode": {
    "name": "ipython",
    "version": 3
   },
   "file_extension": ".py",
   "mimetype": "text/x-python",
   "name": "python",
   "nbconvert_exporter": "python",
   "pygments_lexer": "ipython3",
   "version": "3.12.9"
  }
 },
 "nbformat": 4,
 "nbformat_minor": 2
}
